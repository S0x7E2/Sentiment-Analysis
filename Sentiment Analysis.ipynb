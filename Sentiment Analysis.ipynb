{
 "cells": [
  {
   "cell_type": "code",
   "execution_count": 41,
   "id": "e39fb889-f56c-4b64-aee3-8076c87b3b61",
   "metadata": {},
   "outputs": [],
   "source": [
    "import pandas as pd \n",
    "import numpy as np\n",
    "import matplotlib.pyplot as plt\n",
    "import seaborn as sns\n",
    "from sklearn.preprocessing import LabelEncoder\n",
    "from collections import Counter\n",
    "import re\n",
    "from sklearn.model_selection import train_test_split\n",
    "from sklearn.feature_extraction.text import TfidfVectorizer\n",
    "from sklearn.linear_model import LogisticRegression\n",
    "from sklearn.metrics import classification_report, accuracy_score"
   ]
  },
  {
   "cell_type": "code",
   "execution_count": 54,
   "id": "bcfefd22-3b19-45f8-8332-a07a07a5e8b3",
   "metadata": {},
   "outputs": [],
   "source": [
    "df = pd.read_csv(\"Restaurant_Reviews.tsv\",delimiter=\"\\t\")"
   ]
  },
  {
   "cell_type": "code",
   "execution_count": 55,
   "id": "a75c4265-c7c7-4dd9-9097-c9f3ed3946f0",
   "metadata": {},
   "outputs": [
    {
     "data": {
      "text/html": [
       "<div>\n",
       "<style scoped>\n",
       "    .dataframe tbody tr th:only-of-type {\n",
       "        vertical-align: middle;\n",
       "    }\n",
       "\n",
       "    .dataframe tbody tr th {\n",
       "        vertical-align: top;\n",
       "    }\n",
       "\n",
       "    .dataframe thead th {\n",
       "        text-align: right;\n",
       "    }\n",
       "</style>\n",
       "<table border=\"1\" class=\"dataframe\">\n",
       "  <thead>\n",
       "    <tr style=\"text-align: right;\">\n",
       "      <th></th>\n",
       "      <th>Review</th>\n",
       "      <th>Liked</th>\n",
       "    </tr>\n",
       "  </thead>\n",
       "  <tbody>\n",
       "    <tr>\n",
       "      <th>0</th>\n",
       "      <td>Wow... Loved this place.</td>\n",
       "      <td>1</td>\n",
       "    </tr>\n",
       "    <tr>\n",
       "      <th>1</th>\n",
       "      <td>Crust is not good.</td>\n",
       "      <td>0</td>\n",
       "    </tr>\n",
       "    <tr>\n",
       "      <th>2</th>\n",
       "      <td>Not tasty and the texture was just nasty.</td>\n",
       "      <td>0</td>\n",
       "    </tr>\n",
       "    <tr>\n",
       "      <th>3</th>\n",
       "      <td>Stopped by during the late May bank holiday of...</td>\n",
       "      <td>1</td>\n",
       "    </tr>\n",
       "    <tr>\n",
       "      <th>4</th>\n",
       "      <td>The selection on the menu was great and so wer...</td>\n",
       "      <td>1</td>\n",
       "    </tr>\n",
       "  </tbody>\n",
       "</table>\n",
       "</div>"
      ],
      "text/plain": [
       "                                              Review  Liked\n",
       "0                           Wow... Loved this place.      1\n",
       "1                                 Crust is not good.      0\n",
       "2          Not tasty and the texture was just nasty.      0\n",
       "3  Stopped by during the late May bank holiday of...      1\n",
       "4  The selection on the menu was great and so wer...      1"
      ]
     },
     "execution_count": 55,
     "metadata": {},
     "output_type": "execute_result"
    }
   ],
   "source": [
    "df.head()"
   ]
  },
  {
   "cell_type": "code",
   "execution_count": 56,
   "id": "b7d44a28-9a88-4032-ba8c-87983e9a3e15",
   "metadata": {},
   "outputs": [
    {
     "data": {
      "text/html": [
       "<div>\n",
       "<style scoped>\n",
       "    .dataframe tbody tr th:only-of-type {\n",
       "        vertical-align: middle;\n",
       "    }\n",
       "\n",
       "    .dataframe tbody tr th {\n",
       "        vertical-align: top;\n",
       "    }\n",
       "\n",
       "    .dataframe thead th {\n",
       "        text-align: right;\n",
       "    }\n",
       "</style>\n",
       "<table border=\"1\" class=\"dataframe\">\n",
       "  <thead>\n",
       "    <tr style=\"text-align: right;\">\n",
       "      <th></th>\n",
       "      <th>Review</th>\n",
       "      <th>Liked</th>\n",
       "    </tr>\n",
       "  </thead>\n",
       "  <tbody>\n",
       "    <tr>\n",
       "      <th>0</th>\n",
       "      <td>Wow... Loved this place.</td>\n",
       "      <td>Satisfied</td>\n",
       "    </tr>\n",
       "    <tr>\n",
       "      <th>1</th>\n",
       "      <td>Crust is not good.</td>\n",
       "      <td>Not Satisfied</td>\n",
       "    </tr>\n",
       "    <tr>\n",
       "      <th>2</th>\n",
       "      <td>Not tasty and the texture was just nasty.</td>\n",
       "      <td>Not Satisfied</td>\n",
       "    </tr>\n",
       "    <tr>\n",
       "      <th>3</th>\n",
       "      <td>Stopped by during the late May bank holiday of...</td>\n",
       "      <td>Satisfied</td>\n",
       "    </tr>\n",
       "    <tr>\n",
       "      <th>4</th>\n",
       "      <td>The selection on the menu was great and so wer...</td>\n",
       "      <td>Satisfied</td>\n",
       "    </tr>\n",
       "  </tbody>\n",
       "</table>\n",
       "</div>"
      ],
      "text/plain": [
       "                                              Review          Liked\n",
       "0                           Wow... Loved this place.      Satisfied\n",
       "1                                 Crust is not good.  Not Satisfied\n",
       "2          Not tasty and the texture was just nasty.  Not Satisfied\n",
       "3  Stopped by during the late May bank holiday of...      Satisfied\n",
       "4  The selection on the menu was great and so wer...      Satisfied"
      ]
     },
     "execution_count": 56,
     "metadata": {},
     "output_type": "execute_result"
    }
   ],
   "source": [
    "df['Liked'] = df['Liked'].replace({0:'Not Satisfied',1:'Satisfied'})\n",
    "df.head()\n"
   ]
  },
  {
   "cell_type": "code",
   "execution_count": 58,
   "id": "e2b16766-79a2-4333-ae96-c5794a62849c",
   "metadata": {},
   "outputs": [],
   "source": [
    "df['Liked'] = df['Liked'].apply(lambda x: f\"{x} {'😊' if x == 'Satisfied' else '😞'}\")"
   ]
  },
  {
   "cell_type": "code",
   "execution_count": 59,
   "id": "634f11c1-be05-4a13-82f8-bb9f6d261161",
   "metadata": {},
   "outputs": [
    {
     "data": {
      "text/html": [
       "<div>\n",
       "<style scoped>\n",
       "    .dataframe tbody tr th:only-of-type {\n",
       "        vertical-align: middle;\n",
       "    }\n",
       "\n",
       "    .dataframe tbody tr th {\n",
       "        vertical-align: top;\n",
       "    }\n",
       "\n",
       "    .dataframe thead th {\n",
       "        text-align: right;\n",
       "    }\n",
       "</style>\n",
       "<table border=\"1\" class=\"dataframe\">\n",
       "  <thead>\n",
       "    <tr style=\"text-align: right;\">\n",
       "      <th></th>\n",
       "      <th>Review</th>\n",
       "      <th>Liked</th>\n",
       "    </tr>\n",
       "  </thead>\n",
       "  <tbody>\n",
       "    <tr>\n",
       "      <th>0</th>\n",
       "      <td>Wow... Loved this place.</td>\n",
       "      <td>Satisfied 😊</td>\n",
       "    </tr>\n",
       "    <tr>\n",
       "      <th>1</th>\n",
       "      <td>Crust is not good.</td>\n",
       "      <td>Not Satisfied 😞</td>\n",
       "    </tr>\n",
       "    <tr>\n",
       "      <th>2</th>\n",
       "      <td>Not tasty and the texture was just nasty.</td>\n",
       "      <td>Not Satisfied 😞</td>\n",
       "    </tr>\n",
       "    <tr>\n",
       "      <th>3</th>\n",
       "      <td>Stopped by during the late May bank holiday of...</td>\n",
       "      <td>Satisfied 😊</td>\n",
       "    </tr>\n",
       "    <tr>\n",
       "      <th>4</th>\n",
       "      <td>The selection on the menu was great and so wer...</td>\n",
       "      <td>Satisfied 😊</td>\n",
       "    </tr>\n",
       "  </tbody>\n",
       "</table>\n",
       "</div>"
      ],
      "text/plain": [
       "                                              Review            Liked\n",
       "0                           Wow... Loved this place.      Satisfied 😊\n",
       "1                                 Crust is not good.  Not Satisfied 😞\n",
       "2          Not tasty and the texture was just nasty.  Not Satisfied 😞\n",
       "3  Stopped by during the late May bank holiday of...      Satisfied 😊\n",
       "4  The selection on the menu was great and so wer...      Satisfied 😊"
      ]
     },
     "execution_count": 59,
     "metadata": {},
     "output_type": "execute_result"
    }
   ],
   "source": [
    "df.head()"
   ]
  },
  {
   "cell_type": "code",
   "execution_count": 60,
   "id": "c6db90d0-641c-4bf5-a0d3-b5183d78adef",
   "metadata": {},
   "outputs": [
    {
     "name": "stderr",
     "output_type": "stream",
     "text": [
      "C:\\Users\\alnzy\\AppData\\Local\\Temp\\ipykernel_2004\\469017896.py:11: FutureWarning: \n",
      "\n",
      "Passing `palette` without assigning `hue` is deprecated and will be removed in v0.14.0. Assign the `x` variable to `hue` and set `legend=False` for the same effect.\n",
      "\n",
      "  bar_plot = sns.barplot(data=sentiment_counts, x='Liked', y='Count', palette='viridis')\n"
     ]
    },
    {
     "data": {
      "image/png": "[encoded data removed]",
      "text/plain": [
       "<Figure size 800x500 with 1 Axes>"
      ]
     },
     "metadata": {},
     "output_type": "display_data"
    }
   ],
   "source": [
    "\n",
    "label_encoder = LabelEncoder()\n",
    "df['Liked_encoded'] = label_encoder.fit_transform(df['Liked'])\n",
    "\n",
    "sentiment_counts = df['Liked'].value_counts().reset_index()\n",
    "sentiment_counts.columns = ['Liked', 'Count']\n",
    "\n",
    "\n",
    "plt.figure(figsize=(8, 5))\n",
    "bar_plot = sns.barplot(data=sentiment_counts, x='Liked', y='Count', palette='viridis')\n",
    "\n",
    "\n",
    "for p in bar_plot.patches:\n",
    "    bar_plot.annotate(f'{p.get_height()}', \n",
    "                      (p.get_x() + p.get_width() / 2., p.get_height()), \n",
    "                      ha='center', va='bottom', \n",
    "                      fontsize=12)\n",
    "\n",
    "# إضافة العدد الكلي في العنوان\n",
    "total_count = sentiment_counts['Count'].sum()\n",
    "plt.title(f'Sentiment Distribution of Reviews (Total: {total_count})')\n",
    "plt.xlabel('Sentiment')\n",
    "plt.ylabel('Number of Reviews')\n",
    "plt.xticks(rotation=45)\n",
    "plt.show()"
   ]
  },
  {
   "cell_type": "code",
   "execution_count": 61,
   "id": "5aa84728-284c-48c5-929b-7d7124cd7d4f",
   "metadata": {},
   "outputs": [
    {
     "data": {
      "image/png": "[encoded data removed]",
      "text/plain": [
       "<Figure size 1000x600 with 1 Axes>"
      ]
     },
     "metadata": {},
     "output_type": "display_data"
    }
   ],
   "source": [
    "stop_words = set([\n",
    "    'the', 'is', 'are', 'am', 'was', 'were', 'this', 'that', \n",
    "    'it', 'its', 'have', 'has', 'had', 'do', 'does', 'doing', \n",
    "    'a', 'an', 'and', 'but', 'or', 'to', 'in', 'on', 'for', \n",
    "    'with', 'by', 'at', 'from', 'of', 'as', 'if', 'then', \n",
    "    'will', 'would', 'can', 'could', 'should', 'i', 'just' ,'not' ,'be'  ,'very' ,'food' ,'t'  ,'my' ,'so' ,'we'  ,'they' ,'here' \n",
    "    ,'go' ,'you'  ,'back' ,'our' ,'s'  ,'back' \n",
    "])\n",
    "\n",
    "all_reviews = ' '.join(df['Review'])\n",
    "words = re.findall(r'\\b\\w+\\b', all_reviews.lower())\n",
    "filtered_words = [word for word in words if word not in stop_words]\n",
    "word_counts = Counter(filtered_words)\n",
    "most_common_words = word_counts.most_common(10)  \n",
    "words, counts = zip(*most_common_words)\n",
    "\n",
    "plt.figure(figsize=(10, 6))\n",
    "plt.bar(words, counts, color='blue')\n",
    "plt.xlabel('Words')\n",
    "plt.ylabel('Frequency')\n",
    "plt.title('Most Common Words in Reviews (Filtered)')\n",
    "plt.xticks(rotation=45)\n",
    "plt.show()"
   ]
  },
  {
   "cell_type": "code",
   "execution_count": 62,
   "id": "c2568953-ca6f-444c-be22-2a078605e14f",
   "metadata": {},
   "outputs": [
    {
     "name": "stdout",
     "output_type": "stream",
     "text": [
      "DataFrame:\n",
      "                                                Review            Liked  \\\n",
      "0                             Wow... Loved this place.      Satisfied 😊   \n",
      "1                                   Crust is not good.  Not Satisfied 😞   \n",
      "2            Not tasty and the texture was just nasty.  Not Satisfied 😞   \n",
      "3    Stopped by during the late May bank holiday of...      Satisfied 😊   \n",
      "4    The selection on the menu was great and so wer...      Satisfied 😊   \n",
      "..                                                 ...              ...   \n",
      "995  I think food should have flavor and texture an...  Not Satisfied 😞   \n",
      "996                           Appetite instantly gone.  Not Satisfied 😞   \n",
      "997  Overall I was not impressed and would not go b...  Not Satisfied 😞   \n",
      "998  The whole experience was underwhelming, and I ...  Not Satisfied 😞   \n",
      "999  Then, as if I hadn't wasted enough of my life ...  Not Satisfied 😞   \n",
      "\n",
      "     Liked_encoded  \n",
      "0                1  \n",
      "1                0  \n",
      "2                0  \n",
      "3                1  \n",
      "4                1  \n",
      "..             ...  \n",
      "995              0  \n",
      "996              0  \n",
      "997              0  \n",
      "998              0  \n",
      "999              0  \n",
      "\n",
      "[1000 rows x 3 columns]\n",
      "\n",
      "Columns in DataFrame:\n",
      "Index(['Review', 'Liked', 'Liked_encoded'], dtype='object')\n"
     ]
    }
   ],
   "source": [
    "print(\"DataFrame:\")\n",
    "print(df)\n",
    "\n",
    "print(\"\\nColumns in DataFrame:\")\n",
    "print(df.columns)"
   ]
  },
  {
   "cell_type": "code",
   "execution_count": 70,
   "id": "73e31c44-29ca-46f1-b98b-49ab0d1f1917",
   "metadata": {},
   "outputs": [
    {
     "name": "stdout",
     "output_type": "stream",
     "text": [
      "Accuracy: 0.795\n",
      "Classification Report:\n",
      "                  precision    recall  f1-score   support\n",
      "\n",
      "Not Satisfied 😞       0.75      0.85      0.80        96\n",
      "    Satisfied 😊       0.85      0.74      0.79       104\n",
      "\n",
      "       accuracy                           0.80       200\n",
      "      macro avg       0.80      0.80      0.79       200\n",
      "   weighted avg       0.80      0.80      0.79       200\n",
      "\n"
     ]
    }
   ],
   "source": [
    "\n",
    "\n",
    "# تقسيم البيانات إلى ميزات (X) وأهداف (y)\n",
    "X = df['Review']\n",
    "y = df['Liked']\n",
    "\n",
    "# تقسيم البيانات إلى مجموعة تدريب ومجموعة اختبار\n",
    "X_train, X_test, y_train, y_test = train_test_split(X, y, test_size=0.2, random_state=42)\n",
    "\n",
    "# تحويل النصوص إلى تمثيلات عددية باستخدام TF-IDF\n",
    "vectorizer = TfidfVectorizer()\n",
    "X_train_tfidf = vectorizer.fit_transform(X_train)\n",
    "X_test_tfidf = vectorizer.transform(X_test)\n",
    "\n",
    "# إنشاء نموذج الانحدار اللوجستي\n",
    "model = LogisticRegression()\n",
    "model.fit(X_train_tfidf, y_train)\n",
    "\n",
    "# التنبؤ على مجموعة الاختبار\n",
    "y_pred = model.predict(X_test_tfidf)\n",
    "\n",
    "# تقييم النموذج\n",
    "accuracy = accuracy_score(y_test, y_pred)\n",
    "classification_report_result = classification_report(y_test, y_pred)\n",
    "\n",
    "print(f'Accuracy: {accuracy}')\n",
    "print('Classification Report:\\n', classification_report_result)"
   ]
  }
 ],
 "metadata": {
  "kernelspec": {
   "display_name": "Python 3 (ipykernel)",
   "language": "python",
   "name": "python3"
  },
  "language_info": {
   "codemirror_mode": {
    "name": "ipython",
    "version": 3
   },
   "file_extension": ".py",
   "mimetype": "text/x-python",
   "name": "python",
   "nbconvert_exporter": "python",
   "pygments_lexer": "ipython3",
   "version": "3.12.4"
  }
 },
 "nbformat": 4,
 "nbformat_minor": 5
}
